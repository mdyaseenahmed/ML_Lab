{
 "cells": [
  {
   "cell_type": "code",
   "execution_count": 5,
   "metadata": {},
   "outputs": [],
   "source": [
    "import csv\n",
    "\n",
    "a=[]                  "
   ]
  },
  {
   "cell_type": "code",
   "execution_count": 6,
   "metadata": {},
   "outputs": [
    {
     "name": "stdout",
     "output_type": "stream",
     "text": [
      "[['sunny', 'warm', 'normal', 'strong', 'warm', 'same', 'yes'], ['sunny', 'warm', 'high', 'strong', 'warm', 'same', 'yes'], ['rainy', 'cold', 'high', 'strong', 'warm', 'change', 'no'], ['sunny', 'warm', 'high', 'strong', 'cool', 'change', 'yes']]\n",
      "\n",
      "The Total Number of Training Instances are:  4\n"
     ]
    }
   ],
   "source": [
    "with open('enjoysports.csv','r') as csvfile:\n",
    "    for row in csv.reader(csvfile):\n",
    "        a.append(row)\n",
    "    print(a) \n",
    "\n",
    "print(\"\\nThe Total Number of Training Instances are: \",len(a))"
   ]
  },
  {
   "cell_type": "code",
   "execution_count": 7,
   "metadata": {},
   "outputs": [
    {
     "name": "stdout",
     "output_type": "stream",
     "text": [
      "\n",
      "The Initial Hypothesis is: \n",
      "['0', '0', '0', '0', '0', '0']\n",
      "\n",
      "The Hypothesis for the training instance 1 is: \n",
      " ['sunny', 'warm', 'normal', 'strong', 'warm', 'same']\n",
      "\n",
      "The Hypothesis for the training instance 2 is: \n",
      " ['sunny', 'warm', '?', 'strong', 'warm', 'same']\n",
      "\n",
      "The Hypothesis for the training instance 3 is: \n",
      " ['sunny', 'warm', '?', 'strong', 'warm', 'same']\n",
      "\n",
      "The Hypothesis for the training instance 4 is: \n",
      " ['sunny', 'warm', '?', 'strong', '?', '?']\n"
     ]
    }
   ],
   "source": [
    "num_attribute = len(a[0])-1\n",
    "\n",
    "print(\"\\nThe Initial Hypothesis is: \")\n",
    "hypothesis = ['0']*num_attribute\n",
    "print(hypothesis)\n",
    "\n",
    "for i in range(0,len(a)):\n",
    "    if a[i][num_attribute] == 'yes':\n",
    "        for j in range(0,num_attribute):\n",
    "            if hypothesis[j] == '0' or hypothesis[j] == a[i][j]:\n",
    "                hypothesis[j] = a[i][j]\n",
    "            else:\n",
    "                hypothesis[j] = '?'\n",
    "                \n",
    "    print(\"\\nThe Hypothesis for the training instance {} is: \\n\".format(i+1),hypothesis)"
   ]
  },
  {
   "cell_type": "code",
   "execution_count": 8,
   "metadata": {},
   "outputs": [
    {
     "name": "stdout",
     "output_type": "stream",
     "text": [
      "\n",
      "The Maximally Specific Hypothesis for the training instance is \n",
      "['sunny', 'warm', '?', 'strong', '?', '?']\n"
     ]
    }
   ],
   "source": [
    "print(\"\\nThe Maximally Specific Hypothesis for the training instance is \")\n",
    "print(hypothesis)"
   ]
  }
 ],
 "metadata": {
  "kernelspec": {
   "display_name": "Python 3",
   "language": "python",
   "name": "python3"
  },
  "language_info": {
   "codemirror_mode": {
    "name": "ipython",
    "version": 3
   },
   "file_extension": ".py",
   "mimetype": "text/x-python",
   "name": "python",
   "nbconvert_exporter": "python",
   "pygments_lexer": "ipython3",
   "version": "3.7.3"
  }
 },
 "nbformat": 4,
 "nbformat_minor": 2
}
